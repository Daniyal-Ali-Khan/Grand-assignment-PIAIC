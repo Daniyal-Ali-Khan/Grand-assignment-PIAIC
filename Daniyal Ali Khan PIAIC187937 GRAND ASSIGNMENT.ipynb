{
 "cells": [
  {
   "cell_type": "markdown",
   "id": "89cd6249",
   "metadata": {},
   "source": [
    "# Name: Daniyal Ali Khan,  Roll No : PIAIC187937"
   ]
  },
  {
   "cell_type": "markdown",
   "id": "273d12e3",
   "metadata": {},
   "source": [
    "# VARIABLES AND STRINGS"
   ]
  },
  {
   "cell_type": "markdown",
   "id": "9ed97f85",
   "metadata": {},
   "source": [
    "# 1. Simple Message:"
   ]
  },
  {
   "cell_type": "code",
   "execution_count": 5,
   "id": "3b256b1d",
   "metadata": {},
   "outputs": [
    {
     "name": "stdout",
     "output_type": "stream",
     "text": [
      " Daniyal Ali Khan\n"
     ]
    }
   ],
   "source": [
    "Message = (\" Daniyal Ali Khan\")\n",
    "print(Message)\n"
   ]
  },
  {
   "cell_type": "markdown",
   "id": "f8f066c9",
   "metadata": {},
   "source": [
    "# 2. Find a quote from a famous person you admire."
   ]
  },
  {
   "cell_type": "code",
   "execution_count": 4,
   "id": "58b795e6",
   "metadata": {},
   "outputs": [
    {
     "name": "stdout",
     "output_type": "stream",
     "text": [
      "Aristotle once said,\"Dignity does not consist in possessing honors, but in the consciousness that we deserve them.\"\n"
     ]
    }
   ],
   "source": [
    "Quote = ('Aristotle once said,\"Dignity does not consist in possessing honors, but in the consciousness that we deserve them.\"')\n",
    "print(Quote)\n",
    "\n"
   ]
  },
  {
   "cell_type": "markdown",
   "id": "7003f217",
   "metadata": {},
   "source": [
    "# 3. Calculate area of a circle:"
   ]
  },
  {
   "cell_type": "markdown",
   "id": "d722fc77",
   "metadata": {},
   "source": [
    "# A = πR²"
   ]
  },
  {
   "cell_type": "code",
   "execution_count": 7,
   "id": "dcecc60e",
   "metadata": {},
   "outputs": [
    {
     "name": "stdout",
     "output_type": "stream",
     "text": [
      "Enter the radius of the circle: 0.5\n",
      "The area of the circle is 0.7853975\n"
     ]
    }
   ],
   "source": [
    "PI = 3.14159\n",
    "radius = float(input(\"Enter the radius of the circle: \"))\n",
    "area = PI * radius**2\n",
    "print(\"The area of the circle is\", area)"
   ]
  },
  {
   "cell_type": "markdown",
   "id": "0c2efbab",
   "metadata": {},
   "source": [
    "# Another way to calculate the area of the circle"
   ]
  },
  {
   "cell_type": "code",
   "execution_count": 8,
   "id": "1bdfc063",
   "metadata": {},
   "outputs": [
    {
     "name": "stdout",
     "output_type": "stream",
     "text": [
      "Enter the radius of the circle : 0.5\n",
      "Area of the circle is : 0.7853981633974483\n"
     ]
    }
   ],
   "source": [
    "import math\n",
    "radius = float(input(\"Enter the radius of the circle : \"))\n",
    "area = math.pi * radius * radius\n",
    "print(\"Area of the circle is : {0}\".format(area))"
   ]
  },
  {
   "cell_type": "markdown",
   "id": "7bd7afae",
   "metadata": {},
   "source": [
    "# 4.Check number either positive,nigative or zero::"
   ]
  },
  {
   "cell_type": "code",
   "execution_count": 11,
   "id": "a015bf09",
   "metadata": {},
   "outputs": [
    {
     "name": "stdout",
     "output_type": "stream",
     "text": [
      "Enter a number:-1\n",
      "-1 is negative\n"
     ]
    }
   ],
   "source": [
    "num = int(input(\"Enter a number:\"))\n",
    "if num > 0:\n",
    "    print(num, \"is positive\")\n",
    "elif num == 0:\n",
    "    print(num, \"is zero\")\n",
    "else:\n",
    "    print(num, \"is negative\")\n",
    "    \n",
    "    \n"
   ]
  },
  {
   "cell_type": "markdown",
   "id": "c4c3284a",
   "metadata": {},
   "source": [
    "# 5.Vowel Tester:"
   ]
  },
  {
   "cell_type": "code",
   "execution_count": null,
   "id": "f051cd22",
   "metadata": {},
   "outputs": [],
   "source": [
    "alphabet = input(\"Enter a vowel:\")\n",
    "if alphabet in ('a','e','i','o','u','A','E','I','O','U'):\n",
    "    print(alphabet, \"is a vowel\")\n",
    "else:\n",
    "    print(alphabet, \"is not a vowel it's a consonant\")\n"
   ]
  },
  {
   "cell_type": "markdown",
   "id": "56d08f28",
   "metadata": {},
   "source": [
    "# BMI Calculator"
   ]
  },
  {
   "cell_type": "code",
   "execution_count": 3,
   "id": "c499f8fb",
   "metadata": {},
   "outputs": [
    {
     "name": "stdout",
     "output_type": "stream",
     "text": [
      "Enter the weight in kg: 75\n",
      "Enter the height in cm: 180\n",
      "Your BMI is 23.148148148148145\n"
     ]
    }
   ],
   "source": [
    "val = 10000\n",
    "weight_in_kg = int(input(\"Enter the weight in kg: \"))\n",
    "height_in_cm = int(input(\"Enter the height in cm: \"))\n",
    "BMI = weight_in_kg/height_in_cm **2 * val\n",
    "print(\"Your BMI is\", BMI)"
   ]
  },
  {
   "cell_type": "markdown",
   "id": "58fffe28",
   "metadata": {},
   "source": [
    "# LIST"
   ]
  },
  {
   "cell_type": "markdown",
   "id": "8a821c1c",
   "metadata": {},
   "source": [
    "# Store the names of a few of your friends in a list called names"
   ]
  },
  {
   "cell_type": "code",
   "execution_count": 6,
   "id": "d9b4b090",
   "metadata": {},
   "outputs": [
    {
     "name": "stdout",
     "output_type": "stream",
     "text": [
      "Hassan\n",
      "Haroon\n",
      "Saad\n",
      "Kabeer\n",
      "Ahsan\n",
      "Mustafa\n"
     ]
    }
   ],
   "source": [
    "names = ['Hassan', 'Haroon', 'Saad', 'Kabeer', 'Ahsan', 'Mustafa']\n",
    "for i in names:\n",
    "    print(i)"
   ]
  },
  {
   "cell_type": "markdown",
   "id": "7036dbec",
   "metadata": {},
   "source": [
    "# List used in question 4 instead of just printing each name print a same message to them"
   ]
  },
  {
   "cell_type": "code",
   "execution_count": 7,
   "id": "9c410332",
   "metadata": {},
   "outputs": [
    {
     "name": "stdout",
     "output_type": "stream",
     "text": [
      "Hassan is a helpful person\n",
      "Haroon is a helpful person\n",
      "Saad is a helpful person\n",
      "Kabeer is a helpful person\n",
      "Ahsan is a helpful person\n",
      "Mustafa is a helpful person\n"
     ]
    }
   ],
   "source": [
    "for i in names:\n",
    "    print(i , \"is a helpful person\")"
   ]
  },
  {
   "cell_type": "markdown",
   "id": "e91b8c0b",
   "metadata": {},
   "source": [
    "# Print a python program that contains your nine favourite dishes in list"
   ]
  },
  {
   "cell_type": "code",
   "execution_count": 15,
   "id": "4463d154",
   "metadata": {},
   "outputs": [
    {
     "data": {
      "text/plain": [
       "['pizza', 'burger', 'kofta']"
      ]
     },
     "execution_count": 15,
     "metadata": {},
     "output_type": "execute_result"
    }
   ],
   "source": [
    "favourite = [\"pizza\", \"burger\", \"kofta\", \"Achar gosht\", \"nihari\", 'biryani', 'korma', 'chicken karahi', 'chicken tikka']\n",
    "favourite[0:3]"
   ]
  },
  {
   "cell_type": "code",
   "execution_count": 16,
   "id": "74096a0c",
   "metadata": {},
   "outputs": [
    {
     "name": "stdout",
     "output_type": "stream",
     "text": [
      "Three middel dishes are:  ['Achar gosht', 'nihari', 'biryani']\n"
     ]
    }
   ],
   "source": [
    "print(\"Three middel dishes are: \", favourite[3:6])"
   ]
  },
  {
   "cell_type": "code",
   "execution_count": 18,
   "id": "f3efdd96",
   "metadata": {},
   "outputs": [
    {
     "data": {
      "text/plain": [
       "['Achar gosht', 'nihari', 'biryani']"
      ]
     },
     "execution_count": 18,
     "metadata": {},
     "output_type": "execute_result"
    }
   ],
   "source": [
    "favourite[3:6]"
   ]
  },
  {
   "cell_type": "code",
   "execution_count": 19,
   "id": "fd00f3bf",
   "metadata": {},
   "outputs": [
    {
     "name": "stdout",
     "output_type": "stream",
     "text": [
      " The last three dishes are:  ['korma', 'chicken karahi', 'chicken tikka']\n"
     ]
    }
   ],
   "source": [
    "print(\" The last three dishes are: \", favourite[-3:])"
   ]
  },
  {
   "cell_type": "code",
   "execution_count": 20,
   "id": "f7b37068",
   "metadata": {},
   "outputs": [
    {
     "data": {
      "text/plain": [
       "['korma', 'chicken karahi', 'chicken tikka']"
      ]
     },
     "execution_count": 20,
     "metadata": {},
     "output_type": "execute_result"
    }
   ],
   "source": [
    "favourite[-3:]"
   ]
  },
  {
   "cell_type": "markdown",
   "id": "92f20174",
   "metadata": {},
   "source": [
    "# Start with your program from your last question 8"
   ]
  },
  {
   "cell_type": "code",
   "execution_count": 25,
   "id": "2c834efd",
   "metadata": {},
   "outputs": [
    {
     "name": "stdout",
     "output_type": "stream",
     "text": [
      "['pizza', 'burger', 'kofta', 'Achar gosht', 'nihari', 'biryani', 'korma', 'chicken karahi', 'chicken tikka', 'Kabab']\n"
     ]
    }
   ],
   "source": [
    "friend_foods = [\"pizza\", \"burger\", \"kofta\", \"Achar gosht\", \"nihari\", 'biryani', 'korma', 'chicken karahi', 'chicken tikka']\n",
    "friend_foods.append(\"Kabab\")\n",
    "print(friend_foods)\n"
   ]
  },
  {
   "cell_type": "code",
   "execution_count": 26,
   "id": "2e4cb72c",
   "metadata": {},
   "outputs": [
    {
     "name": "stdout",
     "output_type": "stream",
     "text": [
      "list one is : ['pizza', 'burger', 'kofta', 'Achar gosht', 'nihari', 'biryani', 'korma', 'chicken karahi', 'chicken tikka']\n",
      "list two is : ['pizza', 'burger', 'kofta', 'Achar gosht', 'nihari', 'biryani', 'korma', 'chicken karahi', 'chicken tikka', 'Kabab']\n"
     ]
    }
   ],
   "source": [
    "print(\"list one is :\" ,favourite)\n",
    "print(\"list two is :\", friend_foods)"
   ]
  },
  {
   "cell_type": "code",
   "execution_count": 27,
   "id": "acbb0d98",
   "metadata": {},
   "outputs": [
    {
     "name": "stdout",
     "output_type": "stream",
     "text": [
      "My favourite food is   pizza\n",
      "My favourite food is   burger\n",
      "My favourite food is   kofta\n",
      "My favourite food is   Achar gosht\n",
      "My favourite food is   nihari\n",
      "My favourite food is   biryani\n",
      "My favourite food is   korma\n",
      "My favourite food is   chicken karahi\n",
      "My favourite food is   chicken tikka\n"
     ]
    }
   ],
   "source": [
    "for i in favourite:\n",
    "    \n",
    "    print(\"My favourite food is  \", i)"
   ]
  },
  {
   "cell_type": "code",
   "execution_count": 28,
   "id": "490f3538",
   "metadata": {},
   "outputs": [
    {
     "name": "stdout",
     "output_type": "stream",
     "text": [
      "My friend's favourite food is   pizza\n",
      "My friend's favourite food is   burger\n",
      "My friend's favourite food is   kofta\n",
      "My friend's favourite food is   Achar gosht\n",
      "My friend's favourite food is   nihari\n",
      "My friend's favourite food is   biryani\n",
      "My friend's favourite food is   korma\n",
      "My friend's favourite food is   chicken karahi\n",
      "My friend's favourite food is   chicken tikka\n",
      "My friend's favourite food is   Kabab\n"
     ]
    }
   ],
   "source": [
    "for i in friend_foods:\n",
    "    print(\"My friend's favourite food is  \", i)"
   ]
  },
  {
   "cell_type": "code",
   "execution_count": null,
   "id": "6175c218",
   "metadata": {},
   "outputs": [],
   "source": []
  }
 ],
 "metadata": {
  "kernelspec": {
   "display_name": "Python 3 (ipykernel)",
   "language": "python",
   "name": "python3"
  },
  "language_info": {
   "codemirror_mode": {
    "name": "ipython",
    "version": 3
   },
   "file_extension": ".py",
   "mimetype": "text/x-python",
   "name": "python",
   "nbconvert_exporter": "python",
   "pygments_lexer": "ipython3",
   "version": "3.9.12"
  }
 },
 "nbformat": 4,
 "nbformat_minor": 5
}
